{
 "cells": [
  {
   "cell_type": "markdown",
   "metadata": {},
   "source": [
    "# Linear Regression-Beginner Basic\r\n",
    "___\r\n",
    "## Content\r\n",
    "**So the basic step of linear regeression is:**\r\n",
    "1. import packages\r\n",
    "2. import dataset\r\n",
    "3. prepare dataset\r\n",
    "    * check for null or outlier data ( if doeas, clean the data)\r\n",
    "    * splitting the data for tarining and testing\r\n",
    "    \r\n",
    "    3.5. EDA() Exploratory Data Analysis )- optional\r\n",
    "\r\n",
    "4. build model\r\n",
    "5. do prediction\r\n",
    "6. Evaluate trained data\r\n",
    "\r\n",
    "\r\n",
    "---"
   ]
  },
  {
   "cell_type": "code",
   "execution_count": 2,
   "metadata": {},
   "outputs": [],
   "source": [
    "#step 1- import Packages\r\n",
    "import pandas as pd\r\n",
    "import numpy as np\r\n",
    "import seaborn as sns\r\n",
    "import matplotlib.pyplot as plt\r\n",
    "import matplotlib.gridspec as gridspec\r\n",
    "from matplotlib.ticker import MaxNLocator\r\n",
    "import plotly.express as px\r\n",
    "\r\n",
    "from sklearn.model_selection import train_test_split\r\n",
    "from sklearn.linear_model import LinearRegression\r\n",
    "from sklearn.metrics import accuracy_score\r\n"
   ]
  },
  {
   "cell_type": "code",
   "execution_count": 3,
   "metadata": {},
   "outputs": [],
   "source": [
    "# Styling:\r\n",
    "\r\n",
    "cust_palt = [\r\n",
    "    '#111d5e', '#c70039', '#f37121', '#ffbd69', '#ffc93c'\r\n",
    "]\r\n",
    "\r\n",
    "plt.style.use('ggplot')"
   ]
  },
  {
   "cell_type": "code",
   "execution_count": 4,
   "metadata": {},
   "outputs": [],
   "source": [
    "#step2 - import datset\r\n",
    "dataset = pd.read_csv('dataset/heart.csv')"
   ]
  },
  {
   "cell_type": "code",
   "execution_count": 5,
   "metadata": {},
   "outputs": [
    {
     "data": {
      "text/html": [
       "<div>\n",
       "<style scoped>\n",
       "    .dataframe tbody tr th:only-of-type {\n",
       "        vertical-align: middle;\n",
       "    }\n",
       "\n",
       "    .dataframe tbody tr th {\n",
       "        vertical-align: top;\n",
       "    }\n",
       "\n",
       "    .dataframe thead th {\n",
       "        text-align: right;\n",
       "    }\n",
       "</style>\n",
       "<table border=\"1\" class=\"dataframe\">\n",
       "  <thead>\n",
       "    <tr style=\"text-align: right;\">\n",
       "      <th></th>\n",
       "      <th>age</th>\n",
       "      <th>sex</th>\n",
       "      <th>cp</th>\n",
       "      <th>trestbps</th>\n",
       "      <th>chol</th>\n",
       "      <th>fbs</th>\n",
       "      <th>restecg</th>\n",
       "      <th>thalach</th>\n",
       "      <th>exang</th>\n",
       "      <th>oldpeak</th>\n",
       "      <th>slope</th>\n",
       "      <th>ca</th>\n",
       "      <th>thal</th>\n",
       "      <th>target</th>\n",
       "    </tr>\n",
       "  </thead>\n",
       "  <tbody>\n",
       "    <tr>\n",
       "      <th>0</th>\n",
       "      <td>63</td>\n",
       "      <td>1</td>\n",
       "      <td>3</td>\n",
       "      <td>145</td>\n",
       "      <td>233</td>\n",
       "      <td>1</td>\n",
       "      <td>0</td>\n",
       "      <td>150</td>\n",
       "      <td>0</td>\n",
       "      <td>2.3</td>\n",
       "      <td>0</td>\n",
       "      <td>0</td>\n",
       "      <td>1</td>\n",
       "      <td>1</td>\n",
       "    </tr>\n",
       "    <tr>\n",
       "      <th>1</th>\n",
       "      <td>37</td>\n",
       "      <td>1</td>\n",
       "      <td>2</td>\n",
       "      <td>130</td>\n",
       "      <td>250</td>\n",
       "      <td>0</td>\n",
       "      <td>1</td>\n",
       "      <td>187</td>\n",
       "      <td>0</td>\n",
       "      <td>3.5</td>\n",
       "      <td>0</td>\n",
       "      <td>0</td>\n",
       "      <td>2</td>\n",
       "      <td>1</td>\n",
       "    </tr>\n",
       "    <tr>\n",
       "      <th>2</th>\n",
       "      <td>41</td>\n",
       "      <td>0</td>\n",
       "      <td>1</td>\n",
       "      <td>130</td>\n",
       "      <td>204</td>\n",
       "      <td>0</td>\n",
       "      <td>0</td>\n",
       "      <td>172</td>\n",
       "      <td>0</td>\n",
       "      <td>1.4</td>\n",
       "      <td>2</td>\n",
       "      <td>0</td>\n",
       "      <td>2</td>\n",
       "      <td>1</td>\n",
       "    </tr>\n",
       "  </tbody>\n",
       "</table>\n",
       "</div>"
      ],
      "text/plain": [
       "   age  sex  cp  trestbps  chol  fbs  restecg  thalach  exang  oldpeak  slope  \\\n",
       "0   63    1   3       145   233    1        0      150      0      2.3      0   \n",
       "1   37    1   2       130   250    0        1      187      0      3.5      0   \n",
       "2   41    0   1       130   204    0        0      172      0      1.4      2   \n",
       "\n",
       "   ca  thal  target  \n",
       "0   0     1       1  \n",
       "1   0     2       1  \n",
       "2   0     2       1  "
      ]
     },
     "execution_count": 5,
     "metadata": {},
     "output_type": "execute_result"
    }
   ],
   "source": [
    "# view some of our data\r\n",
    "dataset.head(3)"
   ]
  },
  {
   "cell_type": "code",
   "execution_count": 6,
   "metadata": {},
   "outputs": [
    {
     "data": {
      "text/html": [
       "<div>\n",
       "<style scoped>\n",
       "    .dataframe tbody tr th:only-of-type {\n",
       "        vertical-align: middle;\n",
       "    }\n",
       "\n",
       "    .dataframe tbody tr th {\n",
       "        vertical-align: top;\n",
       "    }\n",
       "\n",
       "    .dataframe thead th {\n",
       "        text-align: right;\n",
       "    }\n",
       "</style>\n",
       "<table border=\"1\" class=\"dataframe\">\n",
       "  <thead>\n",
       "    <tr style=\"text-align: right;\">\n",
       "      <th></th>\n",
       "      <th>age</th>\n",
       "      <th>sex</th>\n",
       "      <th>cp</th>\n",
       "      <th>trestbps</th>\n",
       "      <th>chol</th>\n",
       "      <th>fbs</th>\n",
       "      <th>restecg</th>\n",
       "      <th>thalach</th>\n",
       "      <th>exang</th>\n",
       "      <th>oldpeak</th>\n",
       "      <th>slope</th>\n",
       "      <th>ca</th>\n",
       "      <th>thal</th>\n",
       "      <th>target</th>\n",
       "    </tr>\n",
       "  </thead>\n",
       "  <tbody>\n",
       "    <tr>\n",
       "      <th>count</th>\n",
       "      <td>303.000000</td>\n",
       "      <td>303.000000</td>\n",
       "      <td>303.000000</td>\n",
       "      <td>303.000000</td>\n",
       "      <td>303.000000</td>\n",
       "      <td>303.000000</td>\n",
       "      <td>303.000000</td>\n",
       "      <td>303.000000</td>\n",
       "      <td>303.000000</td>\n",
       "      <td>303.000000</td>\n",
       "      <td>303.000000</td>\n",
       "      <td>303.000000</td>\n",
       "      <td>303.000000</td>\n",
       "      <td>303.000000</td>\n",
       "    </tr>\n",
       "    <tr>\n",
       "      <th>mean</th>\n",
       "      <td>54.366337</td>\n",
       "      <td>0.683168</td>\n",
       "      <td>0.966997</td>\n",
       "      <td>131.623762</td>\n",
       "      <td>246.264026</td>\n",
       "      <td>0.148515</td>\n",
       "      <td>0.528053</td>\n",
       "      <td>149.646865</td>\n",
       "      <td>0.326733</td>\n",
       "      <td>1.039604</td>\n",
       "      <td>1.399340</td>\n",
       "      <td>0.729373</td>\n",
       "      <td>2.313531</td>\n",
       "      <td>0.544554</td>\n",
       "    </tr>\n",
       "    <tr>\n",
       "      <th>std</th>\n",
       "      <td>9.082101</td>\n",
       "      <td>0.466011</td>\n",
       "      <td>1.032052</td>\n",
       "      <td>17.538143</td>\n",
       "      <td>51.830751</td>\n",
       "      <td>0.356198</td>\n",
       "      <td>0.525860</td>\n",
       "      <td>22.905161</td>\n",
       "      <td>0.469794</td>\n",
       "      <td>1.161075</td>\n",
       "      <td>0.616226</td>\n",
       "      <td>1.022606</td>\n",
       "      <td>0.612277</td>\n",
       "      <td>0.498835</td>\n",
       "    </tr>\n",
       "    <tr>\n",
       "      <th>min</th>\n",
       "      <td>29.000000</td>\n",
       "      <td>0.000000</td>\n",
       "      <td>0.000000</td>\n",
       "      <td>94.000000</td>\n",
       "      <td>126.000000</td>\n",
       "      <td>0.000000</td>\n",
       "      <td>0.000000</td>\n",
       "      <td>71.000000</td>\n",
       "      <td>0.000000</td>\n",
       "      <td>0.000000</td>\n",
       "      <td>0.000000</td>\n",
       "      <td>0.000000</td>\n",
       "      <td>0.000000</td>\n",
       "      <td>0.000000</td>\n",
       "    </tr>\n",
       "    <tr>\n",
       "      <th>25%</th>\n",
       "      <td>47.500000</td>\n",
       "      <td>0.000000</td>\n",
       "      <td>0.000000</td>\n",
       "      <td>120.000000</td>\n",
       "      <td>211.000000</td>\n",
       "      <td>0.000000</td>\n",
       "      <td>0.000000</td>\n",
       "      <td>133.500000</td>\n",
       "      <td>0.000000</td>\n",
       "      <td>0.000000</td>\n",
       "      <td>1.000000</td>\n",
       "      <td>0.000000</td>\n",
       "      <td>2.000000</td>\n",
       "      <td>0.000000</td>\n",
       "    </tr>\n",
       "    <tr>\n",
       "      <th>50%</th>\n",
       "      <td>55.000000</td>\n",
       "      <td>1.000000</td>\n",
       "      <td>1.000000</td>\n",
       "      <td>130.000000</td>\n",
       "      <td>240.000000</td>\n",
       "      <td>0.000000</td>\n",
       "      <td>1.000000</td>\n",
       "      <td>153.000000</td>\n",
       "      <td>0.000000</td>\n",
       "      <td>0.800000</td>\n",
       "      <td>1.000000</td>\n",
       "      <td>0.000000</td>\n",
       "      <td>2.000000</td>\n",
       "      <td>1.000000</td>\n",
       "    </tr>\n",
       "    <tr>\n",
       "      <th>75%</th>\n",
       "      <td>61.000000</td>\n",
       "      <td>1.000000</td>\n",
       "      <td>2.000000</td>\n",
       "      <td>140.000000</td>\n",
       "      <td>274.500000</td>\n",
       "      <td>0.000000</td>\n",
       "      <td>1.000000</td>\n",
       "      <td>166.000000</td>\n",
       "      <td>1.000000</td>\n",
       "      <td>1.600000</td>\n",
       "      <td>2.000000</td>\n",
       "      <td>1.000000</td>\n",
       "      <td>3.000000</td>\n",
       "      <td>1.000000</td>\n",
       "    </tr>\n",
       "    <tr>\n",
       "      <th>max</th>\n",
       "      <td>77.000000</td>\n",
       "      <td>1.000000</td>\n",
       "      <td>3.000000</td>\n",
       "      <td>200.000000</td>\n",
       "      <td>564.000000</td>\n",
       "      <td>1.000000</td>\n",
       "      <td>2.000000</td>\n",
       "      <td>202.000000</td>\n",
       "      <td>1.000000</td>\n",
       "      <td>6.200000</td>\n",
       "      <td>2.000000</td>\n",
       "      <td>4.000000</td>\n",
       "      <td>3.000000</td>\n",
       "      <td>1.000000</td>\n",
       "    </tr>\n",
       "  </tbody>\n",
       "</table>\n",
       "</div>"
      ],
      "text/plain": [
       "              age         sex          cp    trestbps        chol         fbs  \\\n",
       "count  303.000000  303.000000  303.000000  303.000000  303.000000  303.000000   \n",
       "mean    54.366337    0.683168    0.966997  131.623762  246.264026    0.148515   \n",
       "std      9.082101    0.466011    1.032052   17.538143   51.830751    0.356198   \n",
       "min     29.000000    0.000000    0.000000   94.000000  126.000000    0.000000   \n",
       "25%     47.500000    0.000000    0.000000  120.000000  211.000000    0.000000   \n",
       "50%     55.000000    1.000000    1.000000  130.000000  240.000000    0.000000   \n",
       "75%     61.000000    1.000000    2.000000  140.000000  274.500000    0.000000   \n",
       "max     77.000000    1.000000    3.000000  200.000000  564.000000    1.000000   \n",
       "\n",
       "          restecg     thalach       exang     oldpeak       slope          ca  \\\n",
       "count  303.000000  303.000000  303.000000  303.000000  303.000000  303.000000   \n",
       "mean     0.528053  149.646865    0.326733    1.039604    1.399340    0.729373   \n",
       "std      0.525860   22.905161    0.469794    1.161075    0.616226    1.022606   \n",
       "min      0.000000   71.000000    0.000000    0.000000    0.000000    0.000000   \n",
       "25%      0.000000  133.500000    0.000000    0.000000    1.000000    0.000000   \n",
       "50%      1.000000  153.000000    0.000000    0.800000    1.000000    0.000000   \n",
       "75%      1.000000  166.000000    1.000000    1.600000    2.000000    1.000000   \n",
       "max      2.000000  202.000000    1.000000    6.200000    2.000000    4.000000   \n",
       "\n",
       "             thal      target  \n",
       "count  303.000000  303.000000  \n",
       "mean     2.313531    0.544554  \n",
       "std      0.612277    0.498835  \n",
       "min      0.000000    0.000000  \n",
       "25%      2.000000    0.000000  \n",
       "50%      2.000000    1.000000  \n",
       "75%      3.000000    1.000000  \n",
       "max      3.000000    1.000000  "
      ]
     },
     "execution_count": 6,
     "metadata": {},
     "output_type": "execute_result"
    }
   ],
   "source": [
    "dataset.describe()"
   ]
  },
  {
   "cell_type": "code",
   "execution_count": 7,
   "metadata": {},
   "outputs": [
    {
     "name": "stdout",
     "output_type": "stream",
     "text": [
      "Train data has 14 features, 303 observations.\n",
      "Train features are:\n",
      "['age', 'sex', 'cp', 'trestbps', 'chol', 'fbs', 'restecg', 'thalach', 'exang', 'oldpeak', 'slope', 'ca', 'thal', 'target']\n",
      "\n"
     ]
    }
   ],
   "source": [
    "print(\r\n",
    "    f'Train data has {dataset.shape[1]} features, {dataset.shape[0]} observations.\\nTrain features are:\\n{dataset.columns.tolist()}\\n'\r\n",
    ")"
   ]
  },
  {
   "cell_type": "code",
   "execution_count": 8,
   "metadata": {},
   "outputs": [
    {
     "data": {
      "text/plain": [
       "0"
      ]
     },
     "execution_count": 8,
     "metadata": {},
     "output_type": "execute_result"
    }
   ],
   "source": [
    "# step3 - prepare dataset\r\n",
    "# checking for null value\r\n",
    "dataset.isnull().sum().sum()"
   ]
  },
  {
   "cell_type": "code",
   "execution_count": 9,
   "metadata": {},
   "outputs": [],
   "source": [
    "# renaming columns label to understand better\r\n",
    "dataset.columns = [\r\n",
    "    'umur', 'jantina', 'jenis_sakit_dada', 'tekanan_darah_rehat', 'kolestrol', 'gula_dalam_darah_puasa',\r\n",
    "    'ecg_rehat', 'kadar_degupan_jantung_capaian_max','angina_disebakan_senaman', 'st_depression', 'slope',\r\n",
    "    'bilangan_salur_utama', 'ujian_stress_Thallium', 'kondisi']"
   ]
  },
  {
   "cell_type": "code",
   "execution_count": 10,
   "metadata": {},
   "outputs": [
    {
     "data": {
      "text/plain": [
       "umur                                  41\n",
       "jantina                                2\n",
       "jenis_sakit_dada                       4\n",
       "tekanan_darah_rehat                   49\n",
       "kolestrol                            152\n",
       "gula_dalam_darah_puasa                 2\n",
       "ecg_rehat                              3\n",
       "kadar_degupan_jantung_capaian_max     91\n",
       "angina_disebakan_senaman               2\n",
       "st_depression                         40\n",
       "slope                                  3\n",
       "bilangan_salur_utama                   5\n",
       "ujian_stress_Thallium                  4\n",
       "kondisi                                2\n",
       "dtype: int64"
      ]
     },
     "execution_count": 10,
     "metadata": {},
     "output_type": "execute_result"
    }
   ],
   "source": [
    "dataset.nunique()"
   ]
  },
  {
   "cell_type": "markdown",
   "metadata": {},
   "source": [
    "### Step 3.5 - EDA\r\n",
    "first, renaming the categotical data for easier EDA interpretation"
   ]
  },
  {
   "cell_type": "code",
   "execution_count": 11,
   "metadata": {},
   "outputs": [],
   "source": [
    "dataset['jantina'] = dataset['jantina'].map({0:'female',1:'male'})\r\n",
    "\r\n",
    "dataset['jenis_sakit_dada']= dataset['jenis_sakit_dada'].map({3:'asymptomatic', 1:'atypical_angina', 2:'non_anginal_pain', 0:'typical_angina'})\r\n",
    "\r\n",
    "dataset['gula_dalam_darah_puasa'] = dataset['gula_dalam_darah_puasa'].map({0:'less_than_120mg/ml',1:'greater_than_120mg/ml'})\r\n",
    "\r\n",
    "dataset['ecg_rehat'] = dataset['ecg_rehat'].map({0:'normal',1:'ST-T_wave_abnormality',2:'left_ventricular_hypertrophy'})\r\n",
    "\r\n",
    "dataset['angina_disebakan_senaman'] = dataset['angina_disebakan_senaman'].map({0:'no',1:'yes'})\r\n",
    "\r\n",
    "dataset['slope'] = dataset['slope'].map({0:'upsloping',1:'flat',2:'downsloping'})\r\n",
    "\r\n",
    "dataset['ujian_stress_Thallium'] = dataset['ujian_stress_Thallium'].map({1:'fixed_defect',0:'normal',2:'reversable_defect'})\r\n",
    "\r\n",
    "dataset['kondisi'] = dataset['kondisi'].map({0:'no_disease', 1:'has_disease'})"
   ]
  },
  {
   "cell_type": "code",
   "execution_count": 12,
   "metadata": {},
   "outputs": [],
   "source": [
    "# Masks for easier selection in future:\r\n",
    "categorical = [i for i in dataset.loc[:,dataset.nunique()<=10]]\r\n",
    "continuous = [i for i in dataset.loc[:,dataset.nunique()>=10]]"
   ]
  },
  {
   "cell_type": "code",
   "execution_count": 13,
   "metadata": {},
   "outputs": [],
   "source": [
    "def ctg_dist(df, cols, hue=None,rows=3, columns=3):\r\n",
    "    \r\n",
    "    '''A function for displaying cateorical distribution'''\r\n",
    "    \r\n",
    "    fig, axes = plt.subplots(rows, columns, figsize=(16, 12))\r\n",
    "    axes = axes.flatten()\r\n",
    "\r\n",
    "    for i, j in zip(df[cols].columns, axes):\r\n",
    "        sns.countplot(x=i,\r\n",
    "                    data=df,\r\n",
    "                    palette=cust_palt,\r\n",
    "                    hue=hue,\r\n",
    "                    ax=j,\r\n",
    "                    order=df[i].value_counts().index)\r\n",
    "        j.tick_params(labelrotation=10)\r\n",
    "        \r\n",
    "        total = float(len(df[i]))\r\n",
    "        \r\n",
    "        j.set_title(f'Distribution of {str(i).capitalize()} ')\r\n",
    "           \r\n",
    "        for p in j.patches:\r\n",
    "            height = p.get_height()\r\n",
    "            j.text(p.get_x() + p.get_width() / 2., height + 2,'{:1.2f}%'.format((height / total) * 100), ha='center')\r\n",
    "        \r\n",
    "        plt.tight_layout()"
   ]
  },
  {
   "cell_type": "code",
   "execution_count": 14,
   "metadata": {},
   "outputs": [
    {
     "data": {
      "image/png": "[encoded data removed]",
      "text/plain": [
       "<Figure size 1152x864 with 9 Axes>"
      ]
     },
     "metadata": {},
     "output_type": "display_data"
    }
   ],
   "source": [
    "ctg_dist(dataset, categorical)"
   ]
  },
  {
   "cell_type": "markdown",
   "metadata": {},
   "source": [
    "### Univariate Analysis\r\n",
    ">Univariate analysis is the simplest form of analyzing data. “Uni” means “one”, so in other words your data has only one variable. It doesn't deal with causes or relationships (unlike regression) and it's major purpose is to describe; It takes data, summarizes that data and finds patterns in the data."
   ]
  },
  {
   "cell_type": "code",
   "execution_count": 15,
   "metadata": {},
   "outputs": [
    {
     "name": "stderr",
     "output_type": "stream",
     "text": [
      "C:\\Users\\MUSTAKIM\\AppData\\Roaming\\Python\\Python38\\site-packages\\seaborn\\distributions.py:2557: FutureWarning: `distplot` is a deprecated function and will be removed in a future version. Please adapt your code to use either `displot` (a figure-level function with similar flexibility) or `histplot` (an axes-level function for histograms).\n",
      "  warnings.warn(msg, FutureWarning)\n",
      "C:\\Users\\MUSTAKIM\\AppData\\Roaming\\Python\\Python38\\site-packages\\seaborn\\_decorators.py:36: FutureWarning: Pass the following variable as a keyword arg: x. From version 0.12, the only valid positional argument will be `data`, and passing other arguments without an explicit keyword will result in an error or misinterpretation.\n",
      "  warnings.warn(\n",
      "C:\\Users\\MUSTAKIM\\AppData\\Roaming\\Python\\Python38\\site-packages\\seaborn\\_core.py:1319: UserWarning: Vertical orientation ignored with only `x` specified.\n",
      "  warnings.warn(single_var_warning.format(\"Vertical\", \"x\"))\n",
      "C:\\Users\\MUSTAKIM\\AppData\\Roaming\\Python\\Python38\\site-packages\\seaborn\\distributions.py:2557: FutureWarning: `distplot` is a deprecated function and will be removed in a future version. Please adapt your code to use either `displot` (a figure-level function with similar flexibility) or `histplot` (an axes-level function for histograms).\n",
      "  warnings.warn(msg, FutureWarning)\n",
      "C:\\Users\\MUSTAKIM\\AppData\\Roaming\\Python\\Python38\\site-packages\\seaborn\\_decorators.py:36: FutureWarning: Pass the following variable as a keyword arg: x. From version 0.12, the only valid positional argument will be `data`, and passing other arguments without an explicit keyword will result in an error or misinterpretation.\n",
      "  warnings.warn(\n",
      "C:\\Users\\MUSTAKIM\\AppData\\Roaming\\Python\\Python38\\site-packages\\seaborn\\_core.py:1319: UserWarning: Vertical orientation ignored with only `x` specified.\n",
      "  warnings.warn(single_var_warning.format(\"Vertical\", \"x\"))\n",
      "C:\\Users\\MUSTAKIM\\AppData\\Roaming\\Python\\Python38\\site-packages\\seaborn\\distributions.py:2557: FutureWarning: `distplot` is a deprecated function and will be removed in a future version. Please adapt your code to use either `displot` (a figure-level function with similar flexibility) or `histplot` (an axes-level function for histograms).\n",
      "  warnings.warn(msg, FutureWarning)\n",
      "C:\\Users\\MUSTAKIM\\AppData\\Roaming\\Python\\Python38\\site-packages\\seaborn\\_decorators.py:36: FutureWarning: Pass the following variable as a keyword arg: x. From version 0.12, the only valid positional argument will be `data`, and passing other arguments without an explicit keyword will result in an error or misinterpretation.\n",
      "  warnings.warn(\n",
      "C:\\Users\\MUSTAKIM\\AppData\\Roaming\\Python\\Python38\\site-packages\\seaborn\\_core.py:1319: UserWarning: Vertical orientation ignored with only `x` specified.\n",
      "  warnings.warn(single_var_warning.format(\"Vertical\", \"x\"))\n",
      "C:\\Users\\MUSTAKIM\\AppData\\Roaming\\Python\\Python38\\site-packages\\seaborn\\distributions.py:2557: FutureWarning: `distplot` is a deprecated function and will be removed in a future version. Please adapt your code to use either `displot` (a figure-level function with similar flexibility) or `histplot` (an axes-level function for histograms).\n",
      "  warnings.warn(msg, FutureWarning)\n",
      "C:\\Users\\MUSTAKIM\\AppData\\Roaming\\Python\\Python38\\site-packages\\seaborn\\_decorators.py:36: FutureWarning: Pass the following variable as a keyword arg: x. From version 0.12, the only valid positional argument will be `data`, and passing other arguments without an explicit keyword will result in an error or misinterpretation.\n",
      "  warnings.warn(\n",
      "C:\\Users\\MUSTAKIM\\AppData\\Roaming\\Python\\Python38\\site-packages\\seaborn\\_core.py:1319: UserWarning: Vertical orientation ignored with only `x` specified.\n",
      "  warnings.warn(single_var_warning.format(\"Vertical\", \"x\"))\n",
      "C:\\Users\\MUSTAKIM\\AppData\\Roaming\\Python\\Python38\\site-packages\\seaborn\\distributions.py:2557: FutureWarning: `distplot` is a deprecated function and will be removed in a future version. Please adapt your code to use either `displot` (a figure-level function with similar flexibility) or `histplot` (an axes-level function for histograms).\n",
      "  warnings.warn(msg, FutureWarning)\n",
      "C:\\Users\\MUSTAKIM\\AppData\\Roaming\\Python\\Python38\\site-packages\\seaborn\\_decorators.py:36: FutureWarning: Pass the following variable as a keyword arg: x. From version 0.12, the only valid positional argument will be `data`, and passing other arguments without an explicit keyword will result in an error or misinterpretation.\n",
      "  warnings.warn(\n"
     ]
    },
    {
     "data": {
      "image/png": "[encoded data removed]",
      "text/plain": [
       "<Figure size 1152x864 with 10 Axes>"
      ]
     },
     "metadata": {},
     "output_type": "display_data"
    }
   ],
   "source": [
    "# Displaying numeric distribution:\r\n",
    "\r\n",
    "fig = plt.figure(constrained_layout=True, figsize=(16, 12))\r\n",
    "grid = gridspec.GridSpec(ncols=6, nrows=3, figure=fig)\r\n",
    "ax1 = fig.add_subplot(grid[0, :2])\r\n",
    "ax1.set_title('Trestbps Distribution')\r\n",
    "\r\n",
    "sns.distplot(dataset[continuous[1]],\r\n",
    "                 hist_kws={\r\n",
    "                 'rwidth': 0.85,\r\n",
    "                 'edgecolor': 'black',\r\n",
    "                 'alpha': 0.8},\r\n",
    "                 color=cust_palt[0])\r\n",
    "\r\n",
    "ax15 = fig.add_subplot(grid[0, 2:3])\r\n",
    "ax15.set_title('Trestbps')\r\n",
    "\r\n",
    "sns.boxplot(dataset[continuous[1]], orient='v', color=cust_palt[0])\r\n",
    "\r\n",
    "ax2 = fig.add_subplot(grid[0, 3:5])\r\n",
    "ax2.set_title('Chol Distribution')\r\n",
    "\r\n",
    "sns.distplot(dataset[continuous[2]],\r\n",
    "                 hist_kws={\r\n",
    "                 'rwidth': 0.85,\r\n",
    "                 'edgecolor': 'black',\r\n",
    "                 'alpha': 0.8},\r\n",
    "                 color=cust_palt[1])\r\n",
    "\r\n",
    "ax25 = fig.add_subplot(grid[0, 5:])\r\n",
    "ax25.set_title('Chol')\r\n",
    "\r\n",
    "sns.boxplot(dataset[continuous[2]], orient='v', color=cust_palt[1])\r\n",
    "\r\n",
    "ax3 = fig.add_subplot(grid[1, :2])\r\n",
    "ax3.set_title('Thalach Distribution')\r\n",
    "\r\n",
    "sns.distplot(dataset[continuous[3]],\r\n",
    "                 hist_kws={\r\n",
    "                 'rwidth': 0.85,\r\n",
    "                 'edgecolor': 'black',\r\n",
    "                 'alpha': 0.8},\r\n",
    "                 color=cust_palt[2])\r\n",
    "\r\n",
    "ax35 = fig.add_subplot(grid[1, 2:3])\r\n",
    "ax35.set_title('Thalach')\r\n",
    "\r\n",
    "sns.boxplot(dataset[continuous[3]], orient='v', color=cust_palt[2])\r\n",
    "\r\n",
    "ax4 = fig.add_subplot(grid[1, 3:5])\r\n",
    "ax4.set_title('Oldpeak Distribution')\r\n",
    "\r\n",
    "sns.distplot(dataset[continuous[4]],\r\n",
    "                 hist_kws={\r\n",
    "                 'rwidth': 0.85,\r\n",
    "                 'edgecolor': 'black',\r\n",
    "                 'alpha': 0.8},\r\n",
    "                 color=cust_palt[3])\r\n",
    "\r\n",
    "ax45 = fig.add_subplot(grid[1, 5:])\r\n",
    "ax45.set_title('Oldpeak')\r\n",
    "\r\n",
    "sns.boxplot(dataset[continuous[4]], orient='v', color=cust_palt[3])\r\n",
    "\r\n",
    "ax5 = fig.add_subplot(grid[2, :4])\r\n",
    "ax5.set_title('Age Distribution')\r\n",
    "\r\n",
    "sns.distplot(dataset[continuous[0]],\r\n",
    "                 hist_kws={\r\n",
    "                 'rwidth': 0.95,\r\n",
    "                 'edgecolor': 'black',\r\n",
    "                 'alpha': 0.8},\r\n",
    "                 color=cust_palt[4])\r\n",
    "\r\n",
    "ax55 = fig.add_subplot(grid[2, 4:])\r\n",
    "ax55.set_title('Age')\r\n",
    "\r\n",
    "sns.boxplot(dataset[continuous[0]], orient='h', color=cust_palt[4])\r\n",
    "\r\n",
    "plt.show()"
   ]
  },
  {
   "cell_type": "code",
   "execution_count": 16,
   "metadata": {},
   "outputs": [
    {
     "data": {
      "image/png": "[encoded data removed]",
      "text/plain": [
       "<Figure size 1152x864 with 8 Axes>"
      ]
     },
     "metadata": {},
     "output_type": "display_data"
    }
   ],
   "source": [
    "# Categorical data vs condition:\r\n",
    "\r\n",
    "ctg_dist(dataset, categorical[:-1], 'kondisi', 4, 2)"
   ]
  },
  {
   "cell_type": "code",
   "execution_count": 17,
   "metadata": {},
   "outputs": [
    {
     "data": {
      "application/vnd.plotly.v1+json": {
       "config": {
        "plotlyServerURL": "https://plot.ly"
       },
       "data": [
        {
         "hovertemplate": "kondisi=has_disease<br>kolestrol=%{x}<br>kadar_degupan_jantung_capaian_max=%{y}<br>umur=%{z}<br>st_depression=%{marker.size}<extra></extra>",
         "legendgroup": "has_disease",
         "marker": {
          "color": "#636efa",
          "opacity": 0.8,
          "size": [
           2.3,
           3.5,
           1.4,
           0.8,
           0.6,
           0.4,
           1.3,
           0,
           0.5,
           1.6,
           1.2,
           0.2,
           0.6,
           1.8,
           1,
           1.6,
           0,
           2.6,
           1.5,
           1.8,
           0.5,
           0.4,
           0,
           1,
           1.4,
           0.4,
           1.6,
           0.6,
           0.8,
           1.2,
           0,
           0.4,
           0,
           0.5,
           1.4,
           1.4,
           0,
           1.6,
           0.8,
           0.8,
           1.5,
           0.2,
           3,
           0.4,
           0,
           0.2,
           0,
           0,
           0,
           0,
           0.5,
           0.4,
           1.8,
           0.6,
           0,
           0.8,
           0,
           0,
           0,
           0,
           0,
           0,
           0,
           0,
           0,
           1.4,
           1.2,
           0.6,
           0,
           0,
           0.4,
           0,
           0,
           0,
           0.2,
           1.4,
           2.4,
           0,
           0,
           0.6,
           0,
           0,
           0,
           1.2,
           0.6,
           1.6,
           1,
           0,
           1.6,
           1,
           0,
           0,
           0,
           0,
           0,
           0,
           1.2,
           0.1,
           1.9,
           0,
           0.8,
           4.2,
           0,
           0.8,
           0,
           1.5,
           0.1,
           0.2,
           1.1,
           0,
           0,
           0.2,
           0.2,
           0,
           0,
           0,
           2,
           1.9,
           0,
           0,
           2,
           0,
           0,
           0,
           0,
           0.7,
           0.1,
           0,
           0.1,
           0.2,
           0,
           0,
           0,
           0,
           0,
           0,
           0,
           0,
           1.5,
           0.2,
           0.6,
           1.2,
           0,
           0.3,
           1.1,
           0,
           0.3,
           0.9,
           0,
           0,
           2.3,
           1.6,
           0.6,
           0,
           0,
           0.6,
           0,
           0,
           0.4,
           0,
           0,
           1.2,
           0,
           0,
           0
          ],
          "sizemode": "area",
          "sizeref": 0.0155,
          "symbol": "circle"
         },
         "mode": "markers",
         "name": "has_disease",
         "scene": "scene",
         "showlegend": true,
         "type": "scatter3d",
         "x": [
          233,
          250,
          204,
          236,
          354,
          192,
          294,
          263,
          199,
          168,
          239,
          275,
          266,
          211,
          283,
          219,
          340,
          226,
          247,
          239,
          234,
          233,
          226,
          243,
          199,
          302,
          212,
          175,
          417,
          197,
          198,
          177,
          219,
          273,
          213,
          177,
          304,
          232,
          269,
          360,
          308,
          245,
          208,
          264,
          321,
          325,
          235,
          257,
          216,
          234,
          256,
          302,
          231,
          141,
          252,
          201,
          222,
          260,
          182,
          303,
          265,
          309,
          186,
          203,
          211,
          183,
          222,
          234,
          220,
          209,
          258,
          227,
          204,
          261,
          213,
          250,
          245,
          221,
          205,
          240,
          250,
          308,
          318,
          298,
          265,
          564,
          277,
          197,
          214,
          248,
          255,
          207,
          223,
          288,
          160,
          226,
          394,
          233,
          315,
          246,
          244,
          270,
          195,
          240,
          196,
          211,
          234,
          236,
          244,
          254,
          325,
          126,
          313,
          211,
          262,
          215,
          214,
          193,
          204,
          243,
          303,
          271,
          268,
          267,
          199,
          210,
          204,
          277,
          196,
          269,
          201,
          271,
          295,
          235,
          306,
          269,
          178,
          208,
          201,
          263,
          295,
          303,
          209,
          223,
          197,
          245,
          242,
          240,
          226,
          180,
          228,
          149,
          227,
          278,
          220,
          197,
          253,
          192,
          220,
          221,
          240,
          342,
          157,
          175,
          175
         ],
         "y": [
          150,
          187,
          172,
          178,
          163,
          148,
          153,
          173,
          162,
          174,
          160,
          139,
          171,
          144,
          162,
          158,
          172,
          114,
          171,
          151,
          161,
          179,
          178,
          137,
          178,
          162,
          157,
          123,
          157,
          152,
          168,
          140,
          188,
          152,
          125,
          160,
          170,
          165,
          148,
          151,
          142,
          180,
          148,
          143,
          182,
          172,
          180,
          156,
          115,
          160,
          149,
          151,
          146,
          175,
          172,
          158,
          186,
          185,
          174,
          159,
          130,
          156,
          190,
          132,
          165,
          182,
          143,
          175,
          170,
          163,
          147,
          154,
          202,
          186,
          165,
          161,
          166,
          164,
          184,
          154,
          179,
          170,
          160,
          178,
          122,
          160,
          151,
          156,
          158,
          122,
          175,
          168,
          169,
          159,
          138,
          111,
          157,
          147,
          162,
          173,
          178,
          145,
          179,
          194,
          163,
          115,
          131,
          152,
          162,
          159,
          154,
          173,
          133,
          161,
          155,
          170,
          168,
          162,
          172,
          152,
          122,
          182,
          172,
          167,
          179,
          192,
          143,
          172,
          169,
          121,
          163,
          162,
          162,
          153,
          163,
          163,
          96,
          140,
          126,
          105,
          157,
          181,
          173,
          142,
          116,
          143,
          149,
          171,
          169,
          150,
          138,
          125,
          155,
          152,
          152,
          131,
          179,
          174,
          144,
          163,
          169,
          166,
          182,
          173,
          173
         ],
         "z": [
          63,
          37,
          41,
          56,
          57,
          57,
          56,
          44,
          52,
          57,
          54,
          48,
          49,
          64,
          58,
          50,
          58,
          66,
          43,
          69,
          59,
          44,
          42,
          61,
          40,
          71,
          59,
          51,
          65,
          53,
          41,
          65,
          44,
          54,
          51,
          46,
          54,
          54,
          65,
          65,
          51,
          48,
          45,
          53,
          39,
          52,
          44,
          47,
          53,
          53,
          51,
          66,
          62,
          44,
          63,
          52,
          48,
          45,
          34,
          57,
          71,
          54,
          52,
          41,
          58,
          35,
          51,
          45,
          44,
          62,
          54,
          51,
          29,
          51,
          43,
          55,
          51,
          59,
          52,
          58,
          41,
          45,
          60,
          52,
          42,
          67,
          68,
          46,
          54,
          58,
          48,
          57,
          52,
          54,
          45,
          53,
          62,
          52,
          43,
          53,
          42,
          59,
          63,
          42,
          50,
          68,
          69,
          45,
          50,
          50,
          64,
          57,
          64,
          43,
          55,
          37,
          41,
          56,
          46,
          46,
          64,
          59,
          41,
          54,
          39,
          34,
          47,
          67,
          52,
          74,
          54,
          49,
          42,
          41,
          41,
          49,
          60,
          62,
          57,
          64,
          51,
          43,
          42,
          67,
          76,
          70,
          44,
          60,
          44,
          42,
          66,
          71,
          64,
          66,
          39,
          58,
          47,
          35,
          58,
          56,
          56,
          55,
          41,
          38,
          38
         ]
        },
        {
         "hovertemplate": "kondisi=no_disease<br>kolestrol=%{x}<br>kadar_degupan_jantung_capaian_max=%{y}<br>umur=%{z}<br>st_depression=%{marker.size}<extra></extra>",
         "legendgroup": "no_disease",
         "marker": {
          "color": "#EF553B",
          "opacity": 0.8,
          "size": [
           1.5,
           2.6,
           3.6,
           1.4,
           3.1,
           0.6,
           1,
           1.8,
           3.2,
           2.4,
           2,
           1.4,
           0,
           2.5,
           0.6,
           1.2,
           1,
           0,
           2.5,
           2.6,
           0,
           1.4,
           2.2,
           0.6,
           0,
           1.2,
           2.2,
           1.4,
           2.8,
           3,
           3.4,
           3.6,
           0.2,
           1.8,
           0.6,
           0,
           2.8,
           0.8,
           1.6,
           6.2,
           0,
           1.2,
           2.6,
           2,
           0,
           0.4,
           3.6,
           1.2,
           1,
           1.2,
           3,
           1.2,
           1.8,
           2.8,
           0,
           4,
           5.6,
           1.4,
           4,
           2.8,
           2.6,
           1.4,
           1.6,
           0.2,
           1.8,
           0,
           1,
           0.8,
           2.2,
           2.4,
           1.6,
           0,
           1.2,
           0,
           0,
           2.9,
           0,
           2,
           1.2,
           2.1,
           0.5,
           1.9,
           0,
           0,
           2,
           4.2,
           0.1,
           1.9,
           0.9,
           0,
           0,
           3,
           0.9,
           1.4,
           3.8,
           1,
           0,
           2,
           1.8,
           0,
           0.1,
           3.4,
           0.8,
           3.2,
           1.6,
           0.8,
           2.6,
           1,
           0.1,
           1,
           1,
           2,
           0.3,
           0,
           3.6,
           1.8,
           1,
           2.2,
           0,
           1.9,
           1.8,
           0.8,
           0,
           3,
           2,
           0,
           4.4,
           2.8,
           0.8,
           2.8,
           4,
           0,
           1,
           0.2,
           1.2,
           3.4,
           1.2,
           0
          ],
          "sizemode": "area",
          "sizeref": 0.0155,
          "symbol": "circle"
         },
         "mode": "markers",
         "name": "no_disease",
         "scene": "scene",
         "showlegend": true,
         "type": "scatter3d",
         "x": [
          286,
          229,
          268,
          254,
          203,
          256,
          229,
          284,
          224,
          206,
          167,
          230,
          335,
          177,
          276,
          353,
          225,
          330,
          230,
          243,
          290,
          253,
          266,
          233,
          172,
          305,
          216,
          188,
          282,
          185,
          326,
          231,
          254,
          267,
          248,
          197,
          258,
          270,
          274,
          164,
          255,
          239,
          258,
          188,
          177,
          229,
          260,
          219,
          307,
          249,
          341,
          263,
          330,
          254,
          256,
          407,
          217,
          282,
          288,
          239,
          174,
          281,
          198,
          288,
          309,
          243,
          289,
          289,
          246,
          322,
          299,
          300,
          293,
          304,
          282,
          269,
          249,
          212,
          274,
          184,
          274,
          409,
          246,
          283,
          254,
          298,
          247,
          294,
          299,
          273,
          309,
          259,
          200,
          244,
          231,
          228,
          230,
          282,
          269,
          206,
          212,
          327,
          149,
          286,
          283,
          249,
          234,
          237,
          234,
          275,
          212,
          218,
          261,
          319,
          166,
          315,
          204,
          218,
          223,
          207,
          311,
          204,
          232,
          335,
          205,
          203,
          318,
          225,
          212,
          169,
          187,
          197,
          176,
          241,
          264,
          193,
          131,
          236
         ],
         "y": [
          108,
          129,
          160,
          147,
          155,
          142,
          168,
          160,
          173,
          132,
          114,
          160,
          158,
          120,
          112,
          132,
          114,
          169,
          165,
          128,
          153,
          144,
          109,
          163,
          158,
          142,
          131,
          113,
          142,
          155,
          140,
          147,
          163,
          99,
          158,
          177,
          141,
          111,
          150,
          145,
          161,
          142,
          157,
          139,
          162,
          150,
          140,
          140,
          146,
          144,
          136,
          97,
          132,
          127,
          150,
          154,
          111,
          174,
          133,
          126,
          125,
          103,
          130,
          159,
          131,
          152,
          124,
          145,
          96,
          109,
          173,
          171,
          170,
          162,
          156,
          112,
          143,
          132,
          88,
          105,
          166,
          150,
          120,
          195,
          146,
          122,
          143,
          106,
          125,
          125,
          147,
          130,
          126,
          154,
          182,
          165,
          160,
          95,
          169,
          108,
          132,
          117,
          126,
          116,
          103,
          144,
          145,
          71,
          156,
          118,
          168,
          105,
          141,
          152,
          125,
          125,
          156,
          134,
          181,
          138,
          120,
          162,
          164,
          143,
          130,
          161,
          140,
          146,
          150,
          144,
          144,
          136,
          90,
          123,
          132,
          141,
          115,
          174
         ],
         "z": [
          67,
          67,
          62,
          63,
          53,
          56,
          48,
          58,
          58,
          60,
          40,
          60,
          64,
          43,
          57,
          55,
          65,
          61,
          58,
          50,
          44,
          60,
          54,
          50,
          41,
          51,
          58,
          54,
          60,
          60,
          59,
          46,
          67,
          62,
          65,
          44,
          60,
          58,
          68,
          62,
          52,
          59,
          60,
          49,
          59,
          57,
          61,
          39,
          61,
          56,
          43,
          62,
          63,
          65,
          48,
          63,
          55,
          65,
          56,
          54,
          70,
          62,
          35,
          59,
          64,
          47,
          57,
          55,
          64,
          70,
          51,
          58,
          60,
          77,
          35,
          70,
          59,
          64,
          57,
          56,
          48,
          56,
          66,
          54,
          69,
          51,
          43,
          62,
          67,
          59,
          45,
          58,
          50,
          62,
          38,
          66,
          52,
          53,
          63,
          54,
          66,
          55,
          49,
          54,
          56,
          46,
          61,
          67,
          58,
          47,
          52,
          58,
          57,
          58,
          61,
          42,
          52,
          59,
          40,
          61,
          46,
          59,
          57,
          57,
          55,
          61,
          58,
          58,
          67,
          44,
          63,
          63,
          59,
          57,
          45,
          68,
          57,
          57
         ]
        }
       ],
       "layout": {
        "legend": {
         "itemsizing": "constant",
         "title": {
          "text": "kondisi"
         },
         "tracegroupgap": 0
        },
        "margin": {
         "b": 0,
         "l": 0,
         "r": 0,
         "t": 0
        },
        "scene": {
         "domain": {
          "x": [
           0,
           1
          ],
          "y": [
           0,
           1
          ]
         },
         "xaxis": {
          "title": {
           "text": "kolestrol"
          }
         },
         "yaxis": {
          "title": {
           "text": "kadar_degupan_jantung_capaian_max"
          }
         },
         "zaxis": {
          "title": {
           "text": "umur"
          }
         }
        },
        "template": {
         "data": {
          "bar": [
           {
            "error_x": {
             "color": "#2a3f5f"
            },
            "error_y": {
             "color": "#2a3f5f"
            },
            "marker": {
             "line": {
              "color": "#E5ECF6",
              "width": 0.5
             },
             "pattern": {
              "fillmode": "overlay",
              "size": 10,
              "solidity": 0.2
             }
            },
            "type": "bar"
           }
          ],
          "barpolar": [
           {
            "marker": {
             "line": {
              "color": "#E5ECF6",
              "width": 0.5
             },
             "pattern": {
              "fillmode": "overlay",
              "size": 10,
              "solidity": 0.2
             }
            },
            "type": "barpolar"
           }
          ],
          "carpet": [
           {
            "aaxis": {
             "endlinecolor": "#2a3f5f",
             "gridcolor": "white",
             "linecolor": "white",
             "minorgridcolor": "white",
             "startlinecolor": "#2a3f5f"
            },
            "baxis": {
             "endlinecolor": "#2a3f5f",
             "gridcolor": "white",
             "linecolor": "white",
             "minorgridcolor": "white",
             "startlinecolor": "#2a3f5f"
            },
            "type": "carpet"
           }
          ],
          "choropleth": [
           {
            "colorbar": {
             "outlinewidth": 0,
             "ticks": ""
            },
            "type": "choropleth"
           }
          ],
          "contour": [
           {
            "colorbar": {
             "outlinewidth": 0,
             "ticks": ""
            },
            "colorscale": [
             [
              0,
              "#0d0887"
             ],
             [
              0.1111111111111111,
              "#46039f"
             ],
             [
              0.2222222222222222,
              "#7201a8"
             ],
             [
              0.3333333333333333,
              "#9c179e"
             ],
             [
              0.4444444444444444,
              "#bd3786"
             ],
             [
              0.5555555555555556,
              "#d8576b"
             ],
             [
              0.6666666666666666,
              "#ed7953"
             ],
             [
              0.7777777777777778,
              "#fb9f3a"
             ],
             [
              0.8888888888888888,
              "#fdca26"
             ],
             [
              1,
              "#f0f921"
             ]
            ],
            "type": "contour"
           }
          ],
          "contourcarpet": [
           {
            "colorbar": {
             "outlinewidth": 0,
             "ticks": ""
            },
            "type": "contourcarpet"
           }
          ],
          "heatmap": [
           {
            "colorbar": {
             "outlinewidth": 0,
             "ticks": ""
            },
            "colorscale": [
             [
              0,
              "#0d0887"
             ],
             [
              0.1111111111111111,
              "#46039f"
             ],
             [
              0.2222222222222222,
              "#7201a8"
             ],
             [
              0.3333333333333333,
              "#9c179e"
             ],
             [
              0.4444444444444444,
              "#bd3786"
             ],
             [
              0.5555555555555556,
              "#d8576b"
             ],
             [
              0.6666666666666666,
              "#ed7953"
             ],
             [
              0.7777777777777778,
              "#fb9f3a"
             ],
             [
              0.8888888888888888,
              "#fdca26"
             ],
             [
              1,
              "#f0f921"
             ]
            ],
            "type": "heatmap"
           }
          ],
          "heatmapgl": [
           {
            "colorbar": {
             "outlinewidth": 0,
             "ticks": ""
            },
            "colorscale": [
             [
              0,
              "#0d0887"
             ],
             [
              0.1111111111111111,
              "#46039f"
             ],
             [
              0.2222222222222222,
              "#7201a8"
             ],
             [
              0.3333333333333333,
              "#9c179e"
             ],
             [
              0.4444444444444444,
              "#bd3786"
             ],
             [
              0.5555555555555556,
              "#d8576b"
             ],
             [
              0.6666666666666666,
              "#ed7953"
             ],
             [
              0.7777777777777778,
              "#fb9f3a"
             ],
             [
              0.8888888888888888,
              "#fdca26"
             ],
             [
              1,
              "#f0f921"
             ]
            ],
            "type": "heatmapgl"
           }
          ],
          "histogram": [
           {
            "marker": {
             "pattern": {
              "fillmode": "overlay",
              "size": 10,
              "solidity": 0.2
             }
            },
            "type": "histogram"
           }
          ],
          "histogram2d": [
           {
            "colorbar": {
             "outlinewidth": 0,
             "ticks": ""
            },
            "colorscale": [
             [
              0,
              "#0d0887"
             ],
             [
              0.1111111111111111,
              "#46039f"
             ],
             [
              0.2222222222222222,
              "#7201a8"
             ],
             [
              0.3333333333333333,
              "#9c179e"
             ],
             [
              0.4444444444444444,
              "#bd3786"
             ],
             [
              0.5555555555555556,
              "#d8576b"
             ],
             [
              0.6666666666666666,
              "#ed7953"
             ],
             [
              0.7777777777777778,
              "#fb9f3a"
             ],
             [
              0.8888888888888888,
              "#fdca26"
             ],
             [
              1,
              "#f0f921"
             ]
            ],
            "type": "histogram2d"
           }
          ],
          "histogram2dcontour": [
           {
            "colorbar": {
             "outlinewidth": 0,
             "ticks": ""
            },
            "colorscale": [
             [
              0,
              "#0d0887"
             ],
             [
              0.1111111111111111,
              "#46039f"
             ],
             [
              0.2222222222222222,
              "#7201a8"
             ],
             [
              0.3333333333333333,
              "#9c179e"
             ],
             [
              0.4444444444444444,
              "#bd3786"
             ],
             [
              0.5555555555555556,
              "#d8576b"
             ],
             [
              0.6666666666666666,
              "#ed7953"
             ],
             [
              0.7777777777777778,
              "#fb9f3a"
             ],
             [
              0.8888888888888888,
              "#fdca26"
             ],
             [
              1,
              "#f0f921"
             ]
            ],
            "type": "histogram2dcontour"
           }
          ],
          "mesh3d": [
           {
            "colorbar": {
             "outlinewidth": 0,
             "ticks": ""
            },
            "type": "mesh3d"
           }
          ],
          "parcoords": [
           {
            "line": {
             "colorbar": {
              "outlinewidth": 0,
              "ticks": ""
             }
            },
            "type": "parcoords"
           }
          ],
          "pie": [
           {
            "automargin": true,
            "type": "pie"
           }
          ],
          "scatter": [
           {
            "marker": {
             "colorbar": {
              "outlinewidth": 0,
              "ticks": ""
             }
            },
            "type": "scatter"
           }
          ],
          "scatter3d": [
           {
            "line": {
             "colorbar": {
              "outlinewidth": 0,
              "ticks": ""
             }
            },
            "marker": {
             "colorbar": {
              "outlinewidth": 0,
              "ticks": ""
             }
            },
            "type": "scatter3d"
           }
          ],
          "scattercarpet": [
           {
            "marker": {
             "colorbar": {
              "outlinewidth": 0,
              "ticks": ""
             }
            },
            "type": "scattercarpet"
           }
          ],
          "scattergeo": [
           {
            "marker": {
             "colorbar": {
              "outlinewidth": 0,
              "ticks": ""
             }
            },
            "type": "scattergeo"
           }
          ],
          "scattergl": [
           {
            "marker": {
             "colorbar": {
              "outlinewidth": 0,
              "ticks": ""
             }
            },
            "type": "scattergl"
           }
          ],
          "scattermapbox": [
           {
            "marker": {
             "colorbar": {
              "outlinewidth": 0,
              "ticks": ""
             }
            },
            "type": "scattermapbox"
           }
          ],
          "scatterpolar": [
           {
            "marker": {
             "colorbar": {
              "outlinewidth": 0,
              "ticks": ""
             }
            },
            "type": "scatterpolar"
           }
          ],
          "scatterpolargl": [
           {
            "marker": {
             "colorbar": {
              "outlinewidth": 0,
              "ticks": ""
             }
            },
            "type": "scatterpolargl"
           }
          ],
          "scatterternary": [
           {
            "marker": {
             "colorbar": {
              "outlinewidth": 0,
              "ticks": ""
             }
            },
            "type": "scatterternary"
           }
          ],
          "surface": [
           {
            "colorbar": {
             "outlinewidth": 0,
             "ticks": ""
            },
            "colorscale": [
             [
              0,
              "#0d0887"
             ],
             [
              0.1111111111111111,
              "#46039f"
             ],
             [
              0.2222222222222222,
              "#7201a8"
             ],
             [
              0.3333333333333333,
              "#9c179e"
             ],
             [
              0.4444444444444444,
              "#bd3786"
             ],
             [
              0.5555555555555556,
              "#d8576b"
             ],
             [
              0.6666666666666666,
              "#ed7953"
             ],
             [
              0.7777777777777778,
              "#fb9f3a"
             ],
             [
              0.8888888888888888,
              "#fdca26"
             ],
             [
              1,
              "#f0f921"
             ]
            ],
            "type": "surface"
           }
          ],
          "table": [
           {
            "cells": {
             "fill": {
              "color": "#EBF0F8"
             },
             "line": {
              "color": "white"
             }
            },
            "header": {
             "fill": {
              "color": "#C8D4E3"
             },
             "line": {
              "color": "white"
             }
            },
            "type": "table"
           }
          ]
         },
         "layout": {
          "annotationdefaults": {
           "arrowcolor": "#2a3f5f",
           "arrowhead": 0,
           "arrowwidth": 1
          },
          "autotypenumbers": "strict",
          "coloraxis": {
           "colorbar": {
            "outlinewidth": 0,
            "ticks": ""
           }
          },
          "colorscale": {
           "diverging": [
            [
             0,
             "#8e0152"
            ],
            [
             0.1,
             "#c51b7d"
            ],
            [
             0.2,
             "#de77ae"
            ],
            [
             0.3,
             "#f1b6da"
            ],
            [
             0.4,
             "#fde0ef"
            ],
            [
             0.5,
             "#f7f7f7"
            ],
            [
             0.6,
             "#e6f5d0"
            ],
            [
             0.7,
             "#b8e186"
            ],
            [
             0.8,
             "#7fbc41"
            ],
            [
             0.9,
             "#4d9221"
            ],
            [
             1,
             "#276419"
            ]
           ],
           "sequential": [
            [
             0,
             "#0d0887"
            ],
            [
             0.1111111111111111,
             "#46039f"
            ],
            [
             0.2222222222222222,
             "#7201a8"
            ],
            [
             0.3333333333333333,
             "#9c179e"
            ],
            [
             0.4444444444444444,
             "#bd3786"
            ],
            [
             0.5555555555555556,
             "#d8576b"
            ],
            [
             0.6666666666666666,
             "#ed7953"
            ],
            [
             0.7777777777777778,
             "#fb9f3a"
            ],
            [
             0.8888888888888888,
             "#fdca26"
            ],
            [
             1,
             "#f0f921"
            ]
           ],
           "sequentialminus": [
            [
             0,
             "#0d0887"
            ],
            [
             0.1111111111111111,
             "#46039f"
            ],
            [
             0.2222222222222222,
             "#7201a8"
            ],
            [
             0.3333333333333333,
             "#9c179e"
            ],
            [
             0.4444444444444444,
             "#bd3786"
            ],
            [
             0.5555555555555556,
             "#d8576b"
            ],
            [
             0.6666666666666666,
             "#ed7953"
            ],
            [
             0.7777777777777778,
             "#fb9f3a"
            ],
            [
             0.8888888888888888,
             "#fdca26"
            ],
            [
             1,
             "#f0f921"
            ]
           ]
          },
          "colorway": [
           "#636efa",
           "#EF553B",
           "#00cc96",
           "#ab63fa",
           "#FFA15A",
           "#19d3f3",
           "#FF6692",
           "#B6E880",
           "#FF97FF",
           "#FECB52"
          ],
          "font": {
           "color": "#2a3f5f"
          },
          "geo": {
           "bgcolor": "white",
           "lakecolor": "white",
           "landcolor": "#E5ECF6",
           "showlakes": true,
           "showland": true,
           "subunitcolor": "white"
          },
          "hoverlabel": {
           "align": "left"
          },
          "hovermode": "closest",
          "mapbox": {
           "style": "light"
          },
          "paper_bgcolor": "white",
          "plot_bgcolor": "#E5ECF6",
          "polar": {
           "angularaxis": {
            "gridcolor": "white",
            "linecolor": "white",
            "ticks": ""
           },
           "bgcolor": "#E5ECF6",
           "radialaxis": {
            "gridcolor": "white",
            "linecolor": "white",
            "ticks": ""
           }
          },
          "scene": {
           "xaxis": {
            "backgroundcolor": "#E5ECF6",
            "gridcolor": "white",
            "gridwidth": 2,
            "linecolor": "white",
            "showbackground": true,
            "ticks": "",
            "zerolinecolor": "white"
           },
           "yaxis": {
            "backgroundcolor": "#E5ECF6",
            "gridcolor": "white",
            "gridwidth": 2,
            "linecolor": "white",
            "showbackground": true,
            "ticks": "",
            "zerolinecolor": "white"
           },
           "zaxis": {
            "backgroundcolor": "#E5ECF6",
            "gridcolor": "white",
            "gridwidth": 2,
            "linecolor": "white",
            "showbackground": true,
            "ticks": "",
            "zerolinecolor": "white"
           }
          },
          "shapedefaults": {
           "line": {
            "color": "#2a3f5f"
           }
          },
          "ternary": {
           "aaxis": {
            "gridcolor": "white",
            "linecolor": "white",
            "ticks": ""
           },
           "baxis": {
            "gridcolor": "white",
            "linecolor": "white",
            "ticks": ""
           },
           "bgcolor": "#E5ECF6",
           "caxis": {
            "gridcolor": "white",
            "linecolor": "white",
            "ticks": ""
           }
          },
          "title": {
           "x": 0.05
          },
          "xaxis": {
           "automargin": true,
           "gridcolor": "white",
           "linecolor": "white",
           "ticks": "",
           "title": {
            "standoff": 15
           },
           "zerolinecolor": "white",
           "zerolinewidth": 2
          },
          "yaxis": {
           "automargin": true,
           "gridcolor": "white",
           "linecolor": "white",
           "ticks": "",
           "title": {
            "standoff": 15
           },
           "zerolinecolor": "white",
           "zerolinewidth": 2
          }
         }
        }
       }
      }
     },
     "metadata": {},
     "output_type": "display_data"
    }
   ],
   "source": [
    "# 3D scatterplot of numeric data:\r\n",
    "\r\n",
    "fig = px.scatter_3d(dataset, x='kolestrol', y='kadar_degupan_jantung_capaian_max', z='umur', size='st_depression',\r\n",
    "              color='kondisi', opacity=0.8)\r\n",
    "\r\n",
    "fig.update_layout(margin=dict(l=0, r=0, b=0, t=0))\r\n",
    "fig.show()"
   ]
  },
  {
   "cell_type": "markdown",
   "metadata": {},
   "source": [
    "So,the dataset look promising ( no missing value and etc). lets continue with splititng for training and testing"
   ]
  },
  {
   "cell_type": "code",
   "execution_count": null,
   "metadata": {},
   "outputs": [
    {
     "data": {
      "image/png": "[encoded data removed]",
      "text/plain": [
       "<Figure size 432x288 with 1 Axes>"
      ]
     },
     "metadata": {
      "needs_background": "light"
     },
     "output_type": "display_data"
    }
   ],
   "source": [
    "#lets view our data scatter before splitting\r\n",
    "dataset.plot(kind='scatter', x ='umur', y='kondisi', color='red')\r\n",
    "plt.show()"
   ]
  },
  {
   "cell_type": "code",
   "execution_count": null,
   "metadata": {},
   "outputs": [],
   "source": [
    "#spliting data\r\n",
    "features = dataset.iloc[:, :-2]\r\n",
    "target = dataset.iloc[:, -1]\r\n",
    "x_train, x_test, y_train,y_test = train_test_split(features, target, test_size=0.3, random_state=48)"
   ]
  },
  {
   "cell_type": "code",
   "execution_count": null,
   "metadata": {},
   "outputs": [
    {
     "data": {
      "image/png": "[encoded data removed]",
      "text/plain": [
       "<Figure size 432x288 with 1 Axes>"
      ]
     },
     "metadata": {
      "needs_background": "light"
     },
     "output_type": "display_data"
    }
   ],
   "source": [
    "plt.scatter(x_train['umur'], y_train, label='Training data', color='red', alpha=0.3)\r\n",
    "plt.scatter(x_test['umur'], y_test, label='Testing data', color='green', alpha=0.4)\r\n",
    "plt.legend()\r\n",
    "plt.title('train test split')\r\n",
    "plt.show()"
   ]
  },
  {
   "cell_type": "code",
   "execution_count": null,
   "metadata": {},
   "outputs": [
    {
     "data": {
      "text/plain": [
       "LinearRegression()"
      ]
     },
     "execution_count": 61,
     "metadata": {},
     "output_type": "execute_result"
    }
   ],
   "source": [
    "#step4 -build model and train\r\n",
    "model = LinearRegression()\r\n",
    "model.fit(x_train, y_train)"
   ]
  },
  {
   "cell_type": "code",
   "execution_count": null,
   "metadata": {},
   "outputs": [],
   "source": [
    "#step 5- do prediction\r\n",
    "y_pred = model.predict(x_test)\r\n",
    "target_pred =[]       \r\n",
    "for r in y_pred:\r\n",
    "    if r > 0.5:\r\n",
    "        r = 1\r\n",
    "        target_pred.append(r)\r\n",
    "    else:\r\n",
    "        r=0\r\n",
    "        target_pred.append(r)\r\n"
   ]
  },
  {
   "cell_type": "code",
   "execution_count": null,
   "metadata": {},
   "outputs": [
    {
     "name": "stdout",
     "output_type": "stream",
     "text": [
      "The accuracy of the model prediction is: 0.8351648351648352\n"
     ]
    }
   ],
   "source": [
    "#step 6- evaluate model/ prediction\r\n",
    "\r\n",
    "print(\r\n",
    "    f'The accuracy of the model prediction is: {accuracy_score(y_test, target_pred)}'\r\n",
    ")"
   ]
  },
  {
   "cell_type": "code",
   "execution_count": null,
   "metadata": {},
   "outputs": [],
   "source": []
  }
 ],
 "metadata": {
  "interpreter": {
   "hash": "1baa965d5efe3ac65b79dfc60c0d706280b1da80fedb7760faf2759126c4f253"
  },
  "kernelspec": {
   "display_name": "Python 3.8.8 64-bit",
   "name": "python3"
  },
  "language_info": {
   "codemirror_mode": {
    "name": "ipython",
    "version": 3
   },
   "file_extension": ".py",
   "mimetype": "text/x-python",
   "name": "python",
   "nbconvert_exporter": "python",
   "pygments_lexer": "ipython3",
   "version": "3.8.8"
  },
  "orig_nbformat": 4
 },
 "nbformat": 4,
 "nbformat_minor": 2
}